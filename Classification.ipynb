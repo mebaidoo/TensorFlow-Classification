{
 "cells": [
  {
   "cell_type": "code",
   "execution_count": null,
   "id": "2d188b65",
   "metadata": {},
   "outputs": [],
   "source": [
    "#Building a classification model to predict mortality of heart failure patients\n",
    "import pandas as pd\n",
    "from sklearn.preprocessing import StandardScaler, LabelEncoder\n",
    "from sklearn.model_selection import train_test_split\n",
    "from collections import Counter\n",
    "from sklearn.compose import ColumnTransformer\n",
    "from tensorflow.keras.models import Sequential\n",
    "from tensorflow.keras.layers import Dense, InputLayer\n",
    "from sklearn.metrics import classification_report\n",
    "from tensorflow.keras.utils import to_categorical\n",
    "import numpy as np\n",
    "from collections import Counter\n",
    "\n",
    "data = pd.read_csv(\"heart_failure.csv\")\n",
    "print(data.info())\n",
    "#Printing the distribution of the death_event column\n",
    "print(Counter(data[\"death_event\"]))\n",
    "#Getting the labels and features\n",
    "y = data[\"death_event\"]\n",
    "x = data[['age','anaemia','creatinine_phosphokinase','diabetes','ejection_fraction','high_blood_pressure','platelets','serum_creatinine','serum_sodium','sex','smoking','time']]\n",
    "#Converting the categorical features to one-hot encoding vectors\n",
    "x = pd.get_dummies(x)\n",
    "#Splitting the data\n",
    "X_train, X_test, Y_train, Y_test = train_test_split(x, y, test_size = 0.3, random_state = 23)\n",
    "#Scaling the numeric features\n",
    "ct = ColumnTransformer([(\"numeric\", StandardScaler(), ['age','creatinine_phosphokinase','ejection_fraction','platelets','serum_creatinine','serum_sodium','time'])])\n",
    "X_train = ct.fit_transform(X_train)\n",
    "X_test = ct.transform(X_test)\n",
    "#Preparing the labels\n",
    "le = LabelEncoder()\n",
    "Y_train = le.fit_transform(Y_train.astype(str))\n",
    "Y_test = le.transform(Y_test.astype(str))\n",
    "Y_train = to_categorical(Y_train)\n",
    "Y_test = to_categorical(Y_test)\n",
    "#Designing the model\n",
    "model = Sequential()\n",
    "model.add(InputLayer(input_shape=(X_train.shape[1],)))\n",
    "model.add(Dense(12, activation='relu'))\n",
    "model.add(Dense(2, activation='softmax'))\n",
    "model.compile(loss='categorical_crossentropy', optimizer='adam', metrics=['accuracy'])\n",
    "#Training and evaluating the model\n",
    "model.fit(X_train, Y_train, epochs = 100, batch_size = 16, verbose=1)\n",
    "loss, acc = model.evaluate(X_test, Y_test, verbose=0)\n",
    "print(\"Loss\", loss, \"Accuracy:\", acc)\n",
    "#Predicting labels for the test set\n",
    "y_estimate = model.predict(X_test, verbose = 0)\n",
    "#Using the numpy.argmax() method to select the indices of the true classes for each label encoding in y_estimate and the true labels\n",
    "y_estimate = np.argmax(y_estimate, axis = 1)\n",
    "y_true = np.argmax(Y_test, axis = 1)\n",
    "#Getting the additional metrics\n",
    "print(classification_report(y_true, y_estimate))"
   ]
  }
 ],
 "metadata": {
  "kernelspec": {
   "display_name": "Python 3 (ipykernel)",
   "language": "python",
   "name": "python3"
  },
  "language_info": {
   "codemirror_mode": {
    "name": "ipython",
    "version": 3
   },
   "file_extension": ".py",
   "mimetype": "text/x-python",
   "name": "python",
   "nbconvert_exporter": "python",
   "pygments_lexer": "ipython3",
   "version": "3.9.7"
  }
 },
 "nbformat": 4,
 "nbformat_minor": 5
}
